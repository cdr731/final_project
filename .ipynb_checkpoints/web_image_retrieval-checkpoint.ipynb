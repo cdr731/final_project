{
 "cells": [
  {
   "cell_type": "code",
   "execution_count": 1,
   "metadata": {},
   "outputs": [],
   "source": [
    "import pandas as pd\n",
    "import numpy as np\n",
    "from sklearn.neighbors import NearestNeighbors"
   ]
  },
  {
   "cell_type": "code",
   "execution_count": 2,
   "metadata": {},
   "outputs": [],
   "source": [
    "# selection can be from 0 to 544\n",
    "choice = 32"
   ]
  },
  {
   "cell_type": "code",
   "execution_count": 3,
   "metadata": {},
   "outputs": [],
   "source": [
    "# create dataframe where features are converted to a list\n",
    "selection_df = pd.read_csv('static/fruits_sample.csv')\n",
    "selection_df['features'] = selection_df.values[:,2:].tolist()\n",
    "selection_df = selection_df[['filename','fruit','features']]"
   ]
  },
  {
   "cell_type": "code",
   "execution_count": 4,
   "metadata": {},
   "outputs": [],
   "source": [
    "# calculate 40 k-nearest neighors based on user 'choice'\n",
    "X = np.array(selection_df['features'].values.tolist())\n",
    "nbrs = NearestNeighbors(n_neighbors=40, algorithm='kd_tree').fit(X)\n",
    "distances, indices = nbrs.kneighbors([X[choice]])\n",
    "idx = list(np.ndarray.flatten(indices))\n",
    "selection_df = selection_df.iloc[idx,:]\n",
    "selection_df = selection_df.assign(distance = distances.tolist()[0])"
   ]
  },
  {
   "cell_type": "code",
   "execution_count": 5,
   "metadata": {},
   "outputs": [
    {
     "name": "stdout",
     "output_type": "stream",
     "text": [
      "[{\"fruit\":\"Melon Piel de Sapo\",\"filename\":\"r2_133_100.jpg\",\"distance\":0.0},{\"fruit\":\"Melon Piel de Sapo\",\"filename\":\"r2_121_100.jpg\",\"distance\":5.0973767184},{\"fruit\":\"Melon Piel de Sapo\",\"filename\":\"r2_112_100.jpg\",\"distance\":6.0041513601},{\"fruit\":\"Melon Piel de Sapo\",\"filename\":\"r_130_100.jpg\",\"distance\":9.2678064903},{\"fruit\":\"Papaya\",\"filename\":\"r_76_100.jpg\",\"distance\":11.2050894416},{\"fruit\":\"Kumquats\",\"filename\":\"r_299_100.jpg\",\"distance\":11.2730297321},{\"fruit\":\"Potato Red Washed\",\"filename\":\"r_90_100.jpg\",\"distance\":11.9279874644},{\"fruit\":\"Kumquats\",\"filename\":\"r_144_100.jpg\",\"distance\":12.0553536137},{\"fruit\":\"Avocado\",\"filename\":\"r_90_100.jpg\",\"distance\":12.0673349905},{\"fruit\":\"Kumquats\",\"filename\":\"r_145_100.jpg\",\"distance\":12.3276826301},{\"fruit\":\"Kiwi\",\"filename\":\"r_90_100.jpg\",\"distance\":12.4473933906},{\"fruit\":\"Kiwi\",\"filename\":\"r_78_100.jpg\",\"distance\":12.9212755903},{\"fruit\":\"Plum 3\",\"filename\":\"r3_25_100.jpg\",\"distance\":13.0028137451},{\"fruit\":\"Kumquats\",\"filename\":\"r_132_100.jpg\",\"distance\":13.0465903177},{\"fruit\":\"Pomelo Sweetie\",\"filename\":\"3_100.jpg\",\"distance\":13.2478950706},{\"fruit\":\"Grape Pink\",\"filename\":\"r_83_100.jpg\",\"distance\":13.2702461498},{\"fruit\":\"Mango\",\"filename\":\"r_264_100.jpg\",\"distance\":13.3298080487},{\"fruit\":\"Pear Monster\",\"filename\":\"r_112_100.jpg\",\"distance\":13.3428246178},{\"fruit\":\"Kumquats\",\"filename\":\"r_283_100.jpg\",\"distance\":13.4204801318},{\"fruit\":\"Tomato 2\",\"filename\":\"r2_311_100.jpg\",\"distance\":13.4882061661},{\"fruit\":\"Plum 3\",\"filename\":\"r_36_100.jpg\",\"distance\":13.5678310678},{\"fruit\":\"Tomato 2\",\"filename\":\"r2_314_100.jpg\",\"distance\":13.6001370505},{\"fruit\":\"Lemon Meyer\",\"filename\":\"r_22_100.jpg\",\"distance\":13.657091545},{\"fruit\":\"Plum 3\",\"filename\":\"r_178_100.jpg\",\"distance\":13.895988445},{\"fruit\":\"Pear Monster\",\"filename\":\"r_217_100.jpg\",\"distance\":13.9401349968},{\"fruit\":\"Lemon Meyer\",\"filename\":\"r_29_100.jpg\",\"distance\":14.0544176524},{\"fruit\":\"Mango\",\"filename\":\"r_87_100.jpg\",\"distance\":14.0567469449},{\"fruit\":\"Papaya\",\"filename\":\"r_44_100.jpg\",\"distance\":14.0581757221},{\"fruit\":\"Avocado ripe\",\"filename\":\"r_75_100.jpg\",\"distance\":14.062218572},{\"fruit\":\"Hazelnut\",\"filename\":\"r_47_100.jpg\",\"distance\":14.0963138577},{\"fruit\":\"Tangelo\",\"filename\":\"r_281_100.jpg\",\"distance\":14.1491674272},{\"fruit\":\"Tomato 1\",\"filename\":\"r2_61_100.jpg\",\"distance\":14.1599270998},{\"fruit\":\"Chestnut\",\"filename\":\"156_100.jpg\",\"distance\":14.2765698967},{\"fruit\":\"Lemon Meyer\",\"filename\":\"r_196_100.jpg\",\"distance\":14.409740873},{\"fruit\":\"Tangelo\",\"filename\":\"r_294_100.jpg\",\"distance\":14.4203467365},{\"fruit\":\"Tomato 1\",\"filename\":\"r2_251_100.jpg\",\"distance\":14.5105977316},{\"fruit\":\"Plum 3\",\"filename\":\"r_55_100.jpg\",\"distance\":14.5219852336},{\"fruit\":\"Tomato 2\",\"filename\":\"r_317_100.jpg\",\"distance\":14.5318345089},{\"fruit\":\"Apple Crimson Snow\",\"filename\":\"95_100.jpg\",\"distance\":14.5444967255},{\"fruit\":\"Apple Crimson Snow\",\"filename\":\"97_100.jpg\",\"distance\":14.5693003226}]\n"
     ]
    }
   ],
   "source": [
    "# output to json\n",
    "output_df = selection_df[['fruit', 'filename', 'distance']]\n",
    "json_output = output_df.to_json(orient='records')\n",
    "print(json_output)"
   ]
  },
  {
   "cell_type": "code",
   "execution_count": null,
   "metadata": {},
   "outputs": [],
   "source": []
  }
 ],
 "metadata": {
  "kernelspec": {
   "display_name": "Python 3",
   "language": "python",
   "name": "python3"
  },
  "language_info": {
   "codemirror_mode": {
    "name": "ipython",
    "version": 3
   },
   "file_extension": ".py",
   "mimetype": "text/x-python",
   "name": "python",
   "nbconvert_exporter": "python",
   "pygments_lexer": "ipython3",
   "version": "3.7.3"
  }
 },
 "nbformat": 4,
 "nbformat_minor": 2
}
