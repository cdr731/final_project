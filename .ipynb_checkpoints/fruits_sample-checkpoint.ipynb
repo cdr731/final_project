{
 "cells": [
  {
   "cell_type": "markdown",
   "metadata": {},
   "source": [
    "### Random fruit image selection\n",
    "###### Randomly select five unique images of each fruit to create a manageable sample for the webpage."
   ]
  },
  {
   "cell_type": "code",
   "execution_count": 1,
   "metadata": {},
   "outputs": [],
   "source": [
    "import os\n",
    "import pandas as pd\n",
    "import numpy as np\n",
    "import shutil"
   ]
  },
  {
   "cell_type": "code",
   "execution_count": 2,
   "metadata": {},
   "outputs": [],
   "source": [
    "df = pd.read_csv('../fruit_features/testing_data.csv')"
   ]
  },
  {
   "cell_type": "code",
   "execution_count": 3,
   "metadata": {},
   "outputs": [],
   "source": [
    "fruit_names = df.fruit.unique()\n",
    "sampled_fruits_df = df.iloc[0:0]"
   ]
  },
  {
   "cell_type": "code",
   "execution_count": 4,
   "metadata": {
    "scrolled": true
   },
   "outputs": [],
   "source": [
    "for fruit_name in fruit_names:\n",
    "    fruit_sub_df = df.loc[df['fruit'] == fruit_name]\n",
    "    rows = np.random.choice(fruit_sub_df.index.values, size=5, replace=False)\n",
    "    sampled_df = fruit_sub_df.loc[rows]\n",
    "    sampled_fruits_df = sampled_fruits_df.append(sampled_df)"
   ]
  },
  {
   "cell_type": "code",
   "execution_count": 5,
   "metadata": {},
   "outputs": [],
   "source": [
    "file_names = sampled_fruits_df.filename"
   ]
  },
  {
   "cell_type": "code",
   "execution_count": 6,
   "metadata": {},
   "outputs": [],
   "source": [
    "for file_name in file_names:\n",
    "#     new_path = file_name.replace('fruits-360', 'fruits-subset')\n",
    "#     os.makedirs(os.path.dirname('../' + new_path), exist_ok=True)\n",
    "#     shutil.copy('../' + file_name, '../' + new_path)\n",
    "    new_path = file_name.replace('fruits-360/Test', 'images')\n",
    "    os.makedirs(os.path.dirname('web_app/' + new_path), exist_ok=True)\n",
    "    shutil.copy('../' + file_name, 'web_app/' + new_path)"
   ]
  },
  {
   "cell_type": "code",
   "execution_count": 7,
   "metadata": {},
   "outputs": [],
   "source": [
    "sampled_fruits_df['filename'] = sampled_fruits_df['filename'].str.split(\"/\").str[-1]"
   ]
  },
  {
   "cell_type": "code",
   "execution_count": 13,
   "metadata": {},
   "outputs": [],
   "source": [
    "sampled_fruits_df = sampled_fruits_df.reset_index()"
   ]
  },
  {
   "cell_type": "code",
   "execution_count": 14,
   "metadata": {},
   "outputs": [],
   "source": [
    "sampled_fruits_df.to_csv('web_app/fruits_sample.csv', index=True)"
   ]
  },
  {
   "cell_type": "code",
   "execution_count": null,
   "metadata": {},
   "outputs": [],
   "source": []
  }
 ],
 "metadata": {
  "kernelspec": {
   "display_name": "Python 3",
   "language": "python",
   "name": "python3"
  },
  "language_info": {
   "codemirror_mode": {
    "name": "ipython",
    "version": 3
   },
   "file_extension": ".py",
   "mimetype": "text/x-python",
   "name": "python",
   "nbconvert_exporter": "python",
   "pygments_lexer": "ipython3",
   "version": "3.7.3"
  }
 },
 "nbformat": 4,
 "nbformat_minor": 2
}
